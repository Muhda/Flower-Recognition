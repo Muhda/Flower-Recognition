{
 "cells": [
  {
   "cell_type": "code",
   "execution_count": null,
   "id": "e1a04635",
   "metadata": {},
   "outputs": [],
   "source": [
    "from PyQt5.QtWidgets import *\n",
    "from PyQt5 import uic\n",
    "from PyQt5.QtGui import *\n",
    "import numpy as np\n",
    "import tensorflow as tf\n",
    "from keras.preprocessing.image import ImageDataGenerator\n",
    "import sys\n",
    "\n",
    "class UI(QMainWindow):\n",
    "    def __init__(self):\n",
    "        super(UI,self).__init__()\n",
    "        \n",
    "        # load the ui file\n",
    "        uic.loadUi(\"interface_final.ui\",self)\n",
    "        \n",
    "        # Define our widgets\n",
    "        self.label =self.findChild(QLabel,\"image_box\")\n",
    "        self.button =self.findChild(QPushButton,\"browse\")\n",
    "        self.label1 =self.findChild(QLabel,\"flower_label\")\n",
    "\n",
    "        # Click The Dropdown Box\n",
    "        self.button.clicked.connect(self.clicker)\n",
    "        # Show The App\n",
    "        self.show()\n",
    "    \n",
    "    def clicker(self):\n",
    "        fname=QFileDialog.getOpenFileName(self, 'Open file', r'C:\\Users\\muhda\\OneDrive - Universiti Teknologi MARA\\SEM 3\\CSC583\\Flower_Recognition\\Prediction', 'Images (*.png, *.xmp *.jpg)')\n",
    "        \n",
    "        #Open image\n",
    "        self.pixmap =QPixmap(fname[0])\n",
    "        #add picture to image_box\n",
    "        self.label.setPixmap(self.pixmap)\n",
    "        self.label1.setText(fname[0])\n",
    "        \n",
    "\n",
    "    #Preprocess New Image\n",
    "    \n",
    "# Initialize The App\n",
    "app = QApplication(sys.argv)\n",
    "UIWindow = UI()\n",
    "app.exec_()"
   ]
  },
  {
   "cell_type": "code",
   "execution_count": null,
   "id": "e4e2bf36",
   "metadata": {},
   "outputs": [],
   "source": []
  }
 ],
 "metadata": {
  "kernelspec": {
   "display_name": "Python 3 (ipykernel)",
   "language": "python",
   "name": "python3"
  },
  "language_info": {
   "codemirror_mode": {
    "name": "ipython",
    "version": 3
   },
   "file_extension": ".py",
   "mimetype": "text/x-python",
   "name": "python",
   "nbconvert_exporter": "python",
   "pygments_lexer": "ipython3",
   "version": "3.9.12"
  }
 },
 "nbformat": 4,
 "nbformat_minor": 5
}
